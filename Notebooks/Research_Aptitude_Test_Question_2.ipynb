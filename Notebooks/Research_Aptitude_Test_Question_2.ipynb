{
  "nbformat": 4,
  "nbformat_minor": 0,
  "metadata": {
    "colab": {
      "name": "Research_Aptitude_Test_Question_2.ipynb",
      "provenance": [],
      "collapsed_sections": []
    },
    "kernelspec": {
      "name": "python3",
      "display_name": "Python 3"
    },
    "language_info": {
      "name": "python"
    }
  },
  "cells": [
    {
      "cell_type": "code",
      "source": [
        "import numpy as np\n",
        "import pandas as pd\n",
        "import os\n",
        "import matplotlib.pyplot as plt\n",
        "import csv\n",
        "import itertools\n",
        "import editdistance\n",
        "\n",
        "import keras\n",
        "import tensorflow as tf\n",
        "from keras import layers\n",
        "from tensorflow.keras.optimizers import Adam\n",
        "from keras.preprocessing import sequence\n",
        "from keras.preprocessing.text import Tokenizer\n",
        "from tensorflow.keras.callbacks import EarlyStopping\n",
        "from sklearn.metrics import confusion_matrix, accuracy_score\n",
        "from keras import backend as K\n",
        "\n",
        "from sklearn.model_selection import train_test_split \n",
        "from sklearn.metrics import confusion_matrix\n",
        "from sklearn.neighbors import NearestNeighbors, LocalOutlierFactor\n",
        "from nltk.translate.bleu_score import sentence_bleu, SmoothingFunction\n",
        "\n",
        "from google.colab import drive\n",
        "drive.mount('/content/gdrive/')\n",
        "\n",
        "%matplotlib inline"
      ],
      "metadata": {
        "colab": {
          "base_uri": "https://localhost:8080/"
        },
        "id": "CBQZ3xotGAyZ",
        "outputId": "9d7c05e1-5290-4e71-898f-150abc2766d5"
      },
      "execution_count": 1,
      "outputs": [
        {
          "output_type": "stream",
          "name": "stdout",
          "text": [
            "Mounted at /content/gdrive/\n"
          ]
        }
      ]
    },
    {
      "cell_type": "markdown",
      "source": [
        "#### Import Data"
      ],
      "metadata": {
        "id": "weIsiwNYWoaa"
      }
    },
    {
      "cell_type": "code",
      "source": [
        "data_path = '/content/gdrive/My Drive/Cardiovascular Disease/'\n",
        "os.chdir(data_path)"
      ],
      "metadata": {
        "id": "cNLRYA9leudp"
      },
      "execution_count": 2,
      "outputs": []
    },
    {
      "cell_type": "code",
      "source": [
        "!unzip 'archive.zip'"
      ],
      "metadata": {
        "colab": {
          "base_uri": "https://localhost:8080/"
        },
        "id": "Ma30bdhXgxon",
        "outputId": "e417fa50-56dc-4889-c1a9-5afc0b378bc4"
      },
      "execution_count": null,
      "outputs": [
        {
          "output_type": "stream",
          "name": "stdout",
          "text": [
            "Archive:  archive.zip\n",
            "  inflating: cardio_train.csv        \n"
          ]
        }
      ]
    },
    {
      "cell_type": "code",
      "source": [
        "df = pd.read_csv('cardio_train.csv', sep = ';')"
      ],
      "metadata": {
        "id": "p2JcDf5kg2dw"
      },
      "execution_count": 3,
      "outputs": []
    },
    {
      "cell_type": "code",
      "source": [
        "df.head()"
      ],
      "metadata": {
        "colab": {
          "base_uri": "https://localhost:8080/",
          "height": 206
        },
        "id": "WFdfMbGzhFVv",
        "outputId": "ce198c7e-aecd-4138-a2d4-ed35afdeb958"
      },
      "execution_count": 4,
      "outputs": [
        {
          "output_type": "execute_result",
          "data": {
            "text/plain": [
              "   id    age  gender  height  weight  ap_hi  ap_lo  cholesterol  gluc  smoke  \\\n",
              "0   0  18393       2     168    62.0    110     80            1     1      0   \n",
              "1   1  20228       1     156    85.0    140     90            3     1      0   \n",
              "2   2  18857       1     165    64.0    130     70            3     1      0   \n",
              "3   3  17623       2     169    82.0    150    100            1     1      0   \n",
              "4   4  17474       1     156    56.0    100     60            1     1      0   \n",
              "\n",
              "   alco  active  cardio  \n",
              "0     0       1       0  \n",
              "1     0       1       1  \n",
              "2     0       0       1  \n",
              "3     0       1       1  \n",
              "4     0       0       0  "
            ],
            "text/html": [
              "\n",
              "  <div id=\"df-40deaf2b-b6f9-4855-ab70-34fca548a457\">\n",
              "    <div class=\"colab-df-container\">\n",
              "      <div>\n",
              "<style scoped>\n",
              "    .dataframe tbody tr th:only-of-type {\n",
              "        vertical-align: middle;\n",
              "    }\n",
              "\n",
              "    .dataframe tbody tr th {\n",
              "        vertical-align: top;\n",
              "    }\n",
              "\n",
              "    .dataframe thead th {\n",
              "        text-align: right;\n",
              "    }\n",
              "</style>\n",
              "<table border=\"1\" class=\"dataframe\">\n",
              "  <thead>\n",
              "    <tr style=\"text-align: right;\">\n",
              "      <th></th>\n",
              "      <th>id</th>\n",
              "      <th>age</th>\n",
              "      <th>gender</th>\n",
              "      <th>height</th>\n",
              "      <th>weight</th>\n",
              "      <th>ap_hi</th>\n",
              "      <th>ap_lo</th>\n",
              "      <th>cholesterol</th>\n",
              "      <th>gluc</th>\n",
              "      <th>smoke</th>\n",
              "      <th>alco</th>\n",
              "      <th>active</th>\n",
              "      <th>cardio</th>\n",
              "    </tr>\n",
              "  </thead>\n",
              "  <tbody>\n",
              "    <tr>\n",
              "      <th>0</th>\n",
              "      <td>0</td>\n",
              "      <td>18393</td>\n",
              "      <td>2</td>\n",
              "      <td>168</td>\n",
              "      <td>62.0</td>\n",
              "      <td>110</td>\n",
              "      <td>80</td>\n",
              "      <td>1</td>\n",
              "      <td>1</td>\n",
              "      <td>0</td>\n",
              "      <td>0</td>\n",
              "      <td>1</td>\n",
              "      <td>0</td>\n",
              "    </tr>\n",
              "    <tr>\n",
              "      <th>1</th>\n",
              "      <td>1</td>\n",
              "      <td>20228</td>\n",
              "      <td>1</td>\n",
              "      <td>156</td>\n",
              "      <td>85.0</td>\n",
              "      <td>140</td>\n",
              "      <td>90</td>\n",
              "      <td>3</td>\n",
              "      <td>1</td>\n",
              "      <td>0</td>\n",
              "      <td>0</td>\n",
              "      <td>1</td>\n",
              "      <td>1</td>\n",
              "    </tr>\n",
              "    <tr>\n",
              "      <th>2</th>\n",
              "      <td>2</td>\n",
              "      <td>18857</td>\n",
              "      <td>1</td>\n",
              "      <td>165</td>\n",
              "      <td>64.0</td>\n",
              "      <td>130</td>\n",
              "      <td>70</td>\n",
              "      <td>3</td>\n",
              "      <td>1</td>\n",
              "      <td>0</td>\n",
              "      <td>0</td>\n",
              "      <td>0</td>\n",
              "      <td>1</td>\n",
              "    </tr>\n",
              "    <tr>\n",
              "      <th>3</th>\n",
              "      <td>3</td>\n",
              "      <td>17623</td>\n",
              "      <td>2</td>\n",
              "      <td>169</td>\n",
              "      <td>82.0</td>\n",
              "      <td>150</td>\n",
              "      <td>100</td>\n",
              "      <td>1</td>\n",
              "      <td>1</td>\n",
              "      <td>0</td>\n",
              "      <td>0</td>\n",
              "      <td>1</td>\n",
              "      <td>1</td>\n",
              "    </tr>\n",
              "    <tr>\n",
              "      <th>4</th>\n",
              "      <td>4</td>\n",
              "      <td>17474</td>\n",
              "      <td>1</td>\n",
              "      <td>156</td>\n",
              "      <td>56.0</td>\n",
              "      <td>100</td>\n",
              "      <td>60</td>\n",
              "      <td>1</td>\n",
              "      <td>1</td>\n",
              "      <td>0</td>\n",
              "      <td>0</td>\n",
              "      <td>0</td>\n",
              "      <td>0</td>\n",
              "    </tr>\n",
              "  </tbody>\n",
              "</table>\n",
              "</div>\n",
              "      <button class=\"colab-df-convert\" onclick=\"convertToInteractive('df-40deaf2b-b6f9-4855-ab70-34fca548a457')\"\n",
              "              title=\"Convert this dataframe to an interactive table.\"\n",
              "              style=\"display:none;\">\n",
              "        \n",
              "  <svg xmlns=\"http://www.w3.org/2000/svg\" height=\"24px\"viewBox=\"0 0 24 24\"\n",
              "       width=\"24px\">\n",
              "    <path d=\"M0 0h24v24H0V0z\" fill=\"none\"/>\n",
              "    <path d=\"M18.56 5.44l.94 2.06.94-2.06 2.06-.94-2.06-.94-.94-2.06-.94 2.06-2.06.94zm-11 1L8.5 8.5l.94-2.06 2.06-.94-2.06-.94L8.5 2.5l-.94 2.06-2.06.94zm10 10l.94 2.06.94-2.06 2.06-.94-2.06-.94-.94-2.06-.94 2.06-2.06.94z\"/><path d=\"M17.41 7.96l-1.37-1.37c-.4-.4-.92-.59-1.43-.59-.52 0-1.04.2-1.43.59L10.3 9.45l-7.72 7.72c-.78.78-.78 2.05 0 2.83L4 21.41c.39.39.9.59 1.41.59.51 0 1.02-.2 1.41-.59l7.78-7.78 2.81-2.81c.8-.78.8-2.07 0-2.86zM5.41 20L4 18.59l7.72-7.72 1.47 1.35L5.41 20z\"/>\n",
              "  </svg>\n",
              "      </button>\n",
              "      \n",
              "  <style>\n",
              "    .colab-df-container {\n",
              "      display:flex;\n",
              "      flex-wrap:wrap;\n",
              "      gap: 12px;\n",
              "    }\n",
              "\n",
              "    .colab-df-convert {\n",
              "      background-color: #E8F0FE;\n",
              "      border: none;\n",
              "      border-radius: 50%;\n",
              "      cursor: pointer;\n",
              "      display: none;\n",
              "      fill: #1967D2;\n",
              "      height: 32px;\n",
              "      padding: 0 0 0 0;\n",
              "      width: 32px;\n",
              "    }\n",
              "\n",
              "    .colab-df-convert:hover {\n",
              "      background-color: #E2EBFA;\n",
              "      box-shadow: 0px 1px 2px rgba(60, 64, 67, 0.3), 0px 1px 3px 1px rgba(60, 64, 67, 0.15);\n",
              "      fill: #174EA6;\n",
              "    }\n",
              "\n",
              "    [theme=dark] .colab-df-convert {\n",
              "      background-color: #3B4455;\n",
              "      fill: #D2E3FC;\n",
              "    }\n",
              "\n",
              "    [theme=dark] .colab-df-convert:hover {\n",
              "      background-color: #434B5C;\n",
              "      box-shadow: 0px 1px 3px 1px rgba(0, 0, 0, 0.15);\n",
              "      filter: drop-shadow(0px 1px 2px rgba(0, 0, 0, 0.3));\n",
              "      fill: #FFFFFF;\n",
              "    }\n",
              "  </style>\n",
              "\n",
              "      <script>\n",
              "        const buttonEl =\n",
              "          document.querySelector('#df-40deaf2b-b6f9-4855-ab70-34fca548a457 button.colab-df-convert');\n",
              "        buttonEl.style.display =\n",
              "          google.colab.kernel.accessAllowed ? 'block' : 'none';\n",
              "\n",
              "        async function convertToInteractive(key) {\n",
              "          const element = document.querySelector('#df-40deaf2b-b6f9-4855-ab70-34fca548a457');\n",
              "          const dataTable =\n",
              "            await google.colab.kernel.invokeFunction('convertToInteractive',\n",
              "                                                     [key], {});\n",
              "          if (!dataTable) return;\n",
              "\n",
              "          const docLinkHtml = 'Like what you see? Visit the ' +\n",
              "            '<a target=\"_blank\" href=https://colab.research.google.com/notebooks/data_table.ipynb>data table notebook</a>'\n",
              "            + ' to learn more about interactive tables.';\n",
              "          element.innerHTML = '';\n",
              "          dataTable['output_type'] = 'display_data';\n",
              "          await google.colab.output.renderOutput(dataTable, element);\n",
              "          const docLink = document.createElement('div');\n",
              "          docLink.innerHTML = docLinkHtml;\n",
              "          element.appendChild(docLink);\n",
              "        }\n",
              "      </script>\n",
              "    </div>\n",
              "  </div>\n",
              "  "
            ]
          },
          "metadata": {},
          "execution_count": 4
        }
      ]
    },
    {
      "cell_type": "code",
      "source": [
        "X = df.drop(columns = 'id').values"
      ],
      "metadata": {
        "id": "w2AMk_bdhBLe"
      },
      "execution_count": 5,
      "outputs": []
    },
    {
      "cell_type": "code",
      "source": [
        "X[0]"
      ],
      "metadata": {
        "colab": {
          "base_uri": "https://localhost:8080/"
        },
        "id": "wtmgXl3RyzwA",
        "outputId": "3b3a7f91-074d-4671-b572-f153f0984ccb"
      },
      "execution_count": 6,
      "outputs": [
        {
          "output_type": "execute_result",
          "data": {
            "text/plain": [
              "array([1.8393e+04, 2.0000e+00, 1.6800e+02, 6.2000e+01, 1.1000e+02,\n",
              "       8.0000e+01, 1.0000e+00, 1.0000e+00, 0.0000e+00, 0.0000e+00,\n",
              "       1.0000e+00, 0.0000e+00])"
            ]
          },
          "metadata": {},
          "execution_count": 6
        }
      ]
    },
    {
      "cell_type": "markdown",
      "source": [
        "#### Split Data"
      ],
      "metadata": {
        "id": "Xbs1ULFsiUs1"
      }
    },
    {
      "cell_type": "code",
      "source": [
        "neg_list = np.array([x[:-1] for x in X if x[-1] == 0])\n",
        "pos_list = np.array([x[:-1] for x in X if x[-1] == 1])\n",
        "\n",
        "max_length = min(len(neg_list), len(pos_list))\n",
        "\n",
        "neg_list = neg_list[:max_length]\n",
        "pos_list = pos_list[:max_length]"
      ],
      "metadata": {
        "id": "q5lHVal9jOY9"
      },
      "execution_count": 7,
      "outputs": []
    },
    {
      "cell_type": "code",
      "source": [
        "neg_train_list, neg_val_list, pos_train_list, pos_val_list = train_test_split(neg_list, pos_list, test_size = 0.2, random_state = 42)\n",
        "neg_train_list, neg_test_list, pos_train_list, pos_test_list = train_test_split(neg_train_list, pos_train_list, test_size = 0.2, random_state = 42)"
      ],
      "metadata": {
        "id": "R2JScEF7kONG"
      },
      "execution_count": 8,
      "outputs": []
    },
    {
      "cell_type": "code",
      "source": [
        "neg_train_df = pd.DataFrame(neg_train_list)\n",
        "neg_val_df = pd.DataFrame(neg_val_list)\n",
        "neg_test_df = pd.DataFrame(neg_test_list)\n",
        "\n",
        "pos_train_df = pd.DataFrame(pos_train_list)\n",
        "pos_val_df = pd.DataFrame(pos_val_list)\n",
        "pos_test_df = pd.DataFrame(pos_test_list)"
      ],
      "metadata": {
        "id": "-Sj4oFhgmn0H"
      },
      "execution_count": 9,
      "outputs": []
    },
    {
      "cell_type": "markdown",
      "source": [
        "#### Save .txt files"
      ],
      "metadata": {
        "id": "p4Kn6HyqlxTv"
      }
    },
    {
      "cell_type": "code",
      "source": [
        "neg_train_df.to_csv(path_or_buf = data_path + 'neg_train.txt', index=False, header=False, sep=' ', quoting = csv.QUOTE_NONE, escapechar = ' ')\n",
        "neg_val_df.to_csv(path_or_buf = data_path + 'neg_val.txt', index=False, header=False, sep=' ', quoting = csv.QUOTE_NONE, escapechar = ' ')\n",
        "neg_test_df.to_csv(path_or_buf = data_path + 'neg_test.txt', index=False, header=False, sep=' ', quoting = csv.QUOTE_NONE, escapechar = ' ')"
      ],
      "metadata": {
        "id": "dDHAIGwBltON"
      },
      "execution_count": 10,
      "outputs": []
    },
    {
      "cell_type": "code",
      "source": [
        "pos_train_df.to_csv(path_or_buf = data_path + 'pos_train.txt', index=False, header=False, sep=' ', quoting = csv.QUOTE_NONE, escapechar = ' ')\n",
        "pos_val_df.to_csv(path_or_buf = data_path + 'pos_val.txt', index=False, header=False, sep=' ', quoting = csv.QUOTE_NONE, escapechar = ' ')\n",
        "pos_test_df.to_csv(path_or_buf = data_path + 'pos_test.txt', index=False, header=False, sep=' ', quoting = csv.QUOTE_NONE, escapechar = ' ')"
      ],
      "metadata": {
        "id": "sx-5WfU8mCyc"
      },
      "execution_count": 11,
      "outputs": []
    },
    {
      "cell_type": "markdown",
      "source": [
        "#### Read .txt files"
      ],
      "metadata": {
        "id": "hoDCSKeWoIlt"
      }
    },
    {
      "cell_type": "code",
      "source": [
        "pos_train = pd.read_csv(data_path + 'pos_train.txt', header = None)\n",
        "neg_train = pd.read_csv(data_path + 'neg_train.txt', header = None)\n",
        "\n",
        "pos_train['label'] = [1 for i in range(pos_train.shape[0])]\n",
        "neg_train['label'] = [0 for i in range(neg_train.shape[0])]\n",
        "\n",
        "train = pd.concat([pos_train, neg_train]).reset_index()\n",
        "train_batch = train.sample(frac=1, random_state=3)\n",
        "\n",
        "X_train, y_train = train_batch[0], train_batch['label']"
      ],
      "metadata": {
        "id": "6t5K1wsZoLom"
      },
      "execution_count": 12,
      "outputs": []
    },
    {
      "cell_type": "code",
      "source": [
        "pos_val = pd.read_csv(data_path+'pos_val.txt', header = None)\n",
        "neg_val =  pd.read_csv(data_path+'neg_val.txt', header = None)\n",
        "\n",
        "pos_val['label'] = [1 for i in range(pos_val.shape[0])]\n",
        "neg_val['label'] = [0 for i in range(neg_val.shape[0])]\n",
        "\n",
        "val = pd.concat([pos_val, neg_val]).reset_index()\n",
        "val_batch = val.sample(frac=1, random_state=3)\n",
        "\n",
        "X_val, y_val = val_batch[0], val_batch['label']"
      ],
      "metadata": {
        "id": "wWGd9mEVxgyh"
      },
      "execution_count": 13,
      "outputs": []
    },
    {
      "cell_type": "code",
      "source": [
        "pos_test = pd.read_csv(data_path+'pos_test.txt', header = None)\n",
        "neg_test =  pd.read_csv(data_path+'neg_test.txt', header = None)\n",
        "\n",
        "pos_test['label'] = [1 for i in range(pos_test.shape[0])]\n",
        "neg_test['label'] = [0 for i in range(neg_test.shape[0])]\n",
        "\n",
        "test = pd.concat([pos_test, neg_test]).reset_index()\n",
        "test_batch = test.sample(frac=1, random_state=3)\n",
        "\n",
        "X_test, y_test = test_batch[0], test_batch['label']"
      ],
      "metadata": {
        "id": "gj4QGiq0zp_J"
      },
      "execution_count": 14,
      "outputs": []
    },
    {
      "cell_type": "markdown",
      "source": [
        "#### Data Processing"
      ],
      "metadata": {
        "id": "VsWsHvCKXo80"
      }
    },
    {
      "cell_type": "code",
      "source": [
        "vocab_size = 1400\n",
        "max_seq_length = 21"
      ],
      "metadata": {
        "id": "ds0ZRPTXXlTF"
      },
      "execution_count": 15,
      "outputs": []
    },
    {
      "cell_type": "code",
      "source": [
        "tokenizer = Tokenizer(num_words = vocab_size)\n",
        "tokenizer.fit_on_texts(X_train)\n",
        "\n",
        "X_train_sequences = tokenizer.texts_to_sequences(X_train)\n",
        "X_val_sequences = tokenizer.texts_to_sequences(X_val)\n",
        "X_test_sequences = tokenizer.texts_to_sequences(X_test)"
      ],
      "metadata": {
        "id": "yris3O4bXrBS"
      },
      "execution_count": 16,
      "outputs": []
    },
    {
      "cell_type": "code",
      "source": [
        "X_train_padded = sequence.pad_sequences(X_train_sequences, maxlen=max_seq_length, padding='post')\n",
        "X_val_padded = sequence.pad_sequences(X_val_sequences, maxlen=max_seq_length, padding='post')\n",
        "X_test_padded = sequence.pad_sequences(X_test_sequences, maxlen=max_seq_length, padding='post')"
      ],
      "metadata": {
        "id": "mn0o9qI8XsmE"
      },
      "execution_count": 17,
      "outputs": []
    },
    {
      "cell_type": "code",
      "source": [
        "X_train_padded.shape"
      ],
      "metadata": {
        "colab": {
          "base_uri": "https://localhost:8080/"
        },
        "id": "oM5zY2OCXugk",
        "outputId": "dfcdd71b-6fe4-43d1-fbf4-f6e158e64a49"
      },
      "execution_count": 18,
      "outputs": [
        {
          "output_type": "execute_result",
          "data": {
            "text/plain": [
              "(44772, 21)"
            ]
          },
          "metadata": {},
          "execution_count": 18
        }
      ]
    },
    {
      "cell_type": "code",
      "source": [
        "X_val_padded.shape"
      ],
      "metadata": {
        "colab": {
          "base_uri": "https://localhost:8080/"
        },
        "id": "jKjWWlOLXwHs",
        "outputId": "564f475b-104b-4d11-e98a-861528feddbc"
      },
      "execution_count": 19,
      "outputs": [
        {
          "output_type": "execute_result",
          "data": {
            "text/plain": [
              "(13992, 21)"
            ]
          },
          "metadata": {},
          "execution_count": 19
        }
      ]
    },
    {
      "cell_type": "code",
      "source": [
        "X_val_padded[0]"
      ],
      "metadata": {
        "colab": {
          "base_uri": "https://localhost:8080/"
        },
        "id": "SH06bxztXxoC",
        "outputId": "1df0f0e7-5ead-402b-851b-500863d0802a"
      },
      "execution_count": 20,
      "outputs": [
        {
          "output_type": "execute_result",
          "data": {
            "text/plain": [
              "array([ 1,  3,  1, 56,  1, 52,  1, 11,  1,  4,  1,  8,  1,  2,  1,  1,  1,\n",
              "        1,  1,  2,  1], dtype=int32)"
            ]
          },
          "metadata": {},
          "execution_count": 20
        }
      ]
    },
    {
      "cell_type": "markdown",
      "source": [
        "#### Model Implementation"
      ],
      "metadata": {
        "id": "rF0HCp6EX0qe"
      }
    },
    {
      "cell_type": "code",
      "source": [
        "es = EarlyStopping(monitor = 'val_accuracy', patience = 3, restore_best_weights = True)"
      ],
      "metadata": {
        "id": "d2tLmd1KX6DK"
      },
      "execution_count": 21,
      "outputs": []
    },
    {
      "cell_type": "code",
      "source": [
        "# Add Input layer\n",
        "inputs = keras.Input(shape=(None,), dtype=\"int32\")\n",
        "\n",
        "# Add embedding layer\n",
        "x = layers.Embedding(vocab_size, 128)(inputs)\n",
        "\n",
        "# Add LSTM layers\n",
        "x = layers.Bidirectional(layers.LSTM(64, return_sequences=True))(x)\n",
        "x = layers.Bidirectional(layers.LSTM(64))(x)\n",
        "\n",
        "# Add fully connected layer\n",
        "outputs = layers.Dense(1, activation=\"sigmoid\")(x)\n",
        "\n",
        "# Create Model\n",
        "model = keras.Model(inputs, outputs)\n",
        "model.summary()"
      ],
      "metadata": {
        "colab": {
          "base_uri": "https://localhost:8080/"
        },
        "id": "sJPGOfsI1YWR",
        "outputId": "e9011517-bf33-4567-e3da-c2dd9a50ab7c"
      },
      "execution_count": 22,
      "outputs": [
        {
          "output_type": "stream",
          "name": "stdout",
          "text": [
            "Model: \"model\"\n",
            "_________________________________________________________________\n",
            " Layer (type)                Output Shape              Param #   \n",
            "=================================================================\n",
            " input_1 (InputLayer)        [(None, None)]            0         \n",
            "                                                                 \n",
            " embedding (Embedding)       (None, None, 128)         179200    \n",
            "                                                                 \n",
            " bidirectional (Bidirectiona  (None, None, 128)        98816     \n",
            " l)                                                              \n",
            "                                                                 \n",
            " bidirectional_1 (Bidirectio  (None, 128)              98816     \n",
            " nal)                                                            \n",
            "                                                                 \n",
            " dense (Dense)               (None, 1)                 129       \n",
            "                                                                 \n",
            "=================================================================\n",
            "Total params: 376,961\n",
            "Trainable params: 376,961\n",
            "Non-trainable params: 0\n",
            "_________________________________________________________________\n"
          ]
        }
      ]
    },
    {
      "cell_type": "code",
      "source": [
        "model.compile(Adam(learning_rate = 0.01), loss = 'binary_crossentropy', metrics = ['accuracy'])"
      ],
      "metadata": {
        "id": "DbBDOYk51yxX"
      },
      "execution_count": 23,
      "outputs": []
    },
    {
      "cell_type": "code",
      "source": [
        "history = model.fit(X_train_padded, y_train, epochs = 30, batch_size = 64, validation_data=(X_val_padded, y_val), callbacks = [es])"
      ],
      "metadata": {
        "colab": {
          "base_uri": "https://localhost:8080/"
        },
        "id": "0M5HQpQ92VTf",
        "outputId": "9848b885-7009-4666-a0ff-b2eb49d04e0b"
      },
      "execution_count": 24,
      "outputs": [
        {
          "output_type": "stream",
          "name": "stdout",
          "text": [
            "Epoch 1/30\n",
            "700/700 [==============================] - 80s 103ms/step - loss: 0.5776 - accuracy: 0.7168 - val_loss: 0.5790 - val_accuracy: 0.7225\n",
            "Epoch 2/30\n",
            "700/700 [==============================] - 63s 90ms/step - loss: 0.5611 - accuracy: 0.7268 - val_loss: 0.5688 - val_accuracy: 0.7216\n",
            "Epoch 3/30\n",
            "700/700 [==============================] - 88s 125ms/step - loss: 0.5580 - accuracy: 0.7292 - val_loss: 0.5649 - val_accuracy: 0.7223\n",
            "Epoch 4/30\n",
            "700/700 [==============================] - 76s 109ms/step - loss: 0.5571 - accuracy: 0.7294 - val_loss: 0.5641 - val_accuracy: 0.7221\n"
          ]
        }
      ]
    },
    {
      "cell_type": "code",
      "source": [
        "plt.plot(history.history['loss'])\n",
        "plt.plot(history.history['val_loss'])\n",
        "plt.title('model loss')\n",
        "plt.ylabel('loss')\n",
        "plt.xlabel('epoch')\n",
        "plt.legend(['train', 'val'], loc='upper left')\n",
        "plt.show()"
      ],
      "metadata": {
        "colab": {
          "base_uri": "https://localhost:8080/",
          "height": 295
        },
        "id": "vlhgxt_v1K3W",
        "outputId": "073840ef-01be-47e5-b24b-d19a06374ea4"
      },
      "execution_count": 25,
      "outputs": [
        {
          "output_type": "display_data",
          "data": {
            "text/plain": [
              "<Figure size 432x288 with 1 Axes>"
            ],
            "image/png": "[encoded data removed]"
          },
          "metadata": {
            "needs_background": "light"
          }
        }
      ]
    },
    {
      "cell_type": "code",
      "source": [
        "plt.plot(history.history['accuracy'])\n",
        "plt.plot(history.history['val_accuracy'])\n",
        "plt.title('model accuracy')\n",
        "plt.ylabel('accuracy')\n",
        "plt.xlabel('epoch')\n",
        "plt.legend(['train', 'val'], loc='upper left')\n",
        "plt.show()"
      ],
      "metadata": {
        "colab": {
          "base_uri": "https://localhost:8080/",
          "height": 295
        },
        "id": "-MH7EKxd1NFG",
        "outputId": "0a0ba6d4-74d6-406e-9b1b-f80540570698"
      },
      "execution_count": 26,
      "outputs": [
        {
          "output_type": "display_data",
          "data": {
            "text/plain": [
              "<Figure size 432x288 with 1 Axes>"
            ],
            "image/png": "[encoded data removed]"
          },
          "metadata": {
            "needs_background": "light"
          }
        }
      ]
    },
    {
      "cell_type": "markdown",
      "source": [
        "#### Evaluating Model"
      ],
      "metadata": {
        "id": "M8otB8LJ2wlV"
      }
    },
    {
      "cell_type": "code",
      "source": [
        "# Taken from SKlearn website\n",
        "\n",
        "def plot_confusion_matrix(cm, classes,\n",
        "                          normalize = False,\n",
        "                          title='Confusion matrix',\n",
        "                          cmap=plt.cm.Blues):\n",
        "    \"\"\"\n",
        "    This function prints and plots the confusion matrix.\n",
        "    Normalization can be applied by setting `normalize=True`.\n",
        "    \"\"\"\n",
        "    plt.imshow(cm, interpolation='nearest', cmap=cmap)\n",
        "    plt.title(title)\n",
        "    plt.colorbar()\n",
        "    tick_marks = np.arange(len(classes))\n",
        "    plt.xticks(tick_marks, classes, rotation=45)\n",
        "    plt.yticks(tick_marks, classes)\n",
        "\n",
        "    if normalize:\n",
        "        cm = cm.astype('float') / cm.sum(axis=1)[:, np.newaxis]\n",
        "        print(\"Normalized confusion matrix\")\n",
        "    else:\n",
        "        print('Confusion matrix, without normalization')\n",
        "\n",
        "    print(cm)\n",
        "\n",
        "    thresh = cm.max() / 2.\n",
        "    for i, j in itertools.product(range(cm.shape[0]), range(cm.shape[1])):\n",
        "        plt.text(j, i, cm[i, j],\n",
        "                 horizontalalignment=\"center\",\n",
        "                 color=\"white\" if cm[i, j] > thresh else \"black\")\n",
        "\n",
        "    plt.tight_layout()\n",
        "    plt.ylabel('True label')\n",
        "    plt.xlabel('Predicted label')"
      ],
      "metadata": {
        "id": "ojtVlPty22nm"
      },
      "execution_count": 27,
      "outputs": []
    },
    {
      "cell_type": "code",
      "source": [
        "y_pred = model.predict(X_test_padded)\n",
        "y_pred = np.round(y_pred)"
      ],
      "metadata": {
        "id": "NnId42z1YH9z"
      },
      "execution_count": 28,
      "outputs": []
    },
    {
      "cell_type": "code",
      "source": [
        "accuracy_score(y_test, y_pred)"
      ],
      "metadata": {
        "colab": {
          "base_uri": "https://localhost:8080/"
        },
        "id": "B7T-aufs4nwG",
        "outputId": "b3bc93db-8dbf-4f6d-a783-f96b7466f6a7"
      },
      "execution_count": 29,
      "outputs": [
        {
          "output_type": "execute_result",
          "data": {
            "text/plain": [
              "0.7235125960335894"
            ]
          },
          "metadata": {},
          "execution_count": 29
        }
      ]
    },
    {
      "cell_type": "code",
      "source": [
        "cm = confusion_matrix(y_test, y_pred)"
      ],
      "metadata": {
        "id": "65nbMw6Q4t4A"
      },
      "execution_count": 30,
      "outputs": []
    },
    {
      "cell_type": "code",
      "source": [
        "cm_plot_labels = [0, 1]\n",
        "plot_confusion_matrix(cm, cm_plot_labels, title = 'Confusion Matrix')"
      ],
      "metadata": {
        "colab": {
          "base_uri": "https://localhost:8080/",
          "height": 363
        },
        "id": "6Ro4ECgu4vtN",
        "outputId": "92ce6b5e-89be-484b-c4ae-659bd1f5cd35"
      },
      "execution_count": 31,
      "outputs": [
        {
          "output_type": "stream",
          "name": "stdout",
          "text": [
            "Confusion matrix, without normalization\n",
            "[[4496 1101]\n",
            " [1994 3603]]\n"
          ]
        },
        {
          "output_type": "display_data",
          "data": {
            "text/plain": [
              "<Figure size 432x288 with 2 Axes>"
            ],
            "image/png": "[encoded data removed]"
          },
          "metadata": {
            "needs_background": "light"
          }
        }
      ]
    },
    {
      "cell_type": "code",
      "source": [
        "np.unique(y_pred, return_counts = True)"
      ],
      "metadata": {
        "colab": {
          "base_uri": "https://localhost:8080/"
        },
        "id": "dBKHMxI-4xVt",
        "outputId": "ab65d71d-9f4a-4a06-8eb9-c6b5b4190cd1"
      },
      "execution_count": 32,
      "outputs": [
        {
          "output_type": "execute_result",
          "data": {
            "text/plain": [
              "(array([0., 1.], dtype=float32), array([6490, 4704]))"
            ]
          },
          "metadata": {},
          "execution_count": 32
        }
      ]
    },
    {
      "cell_type": "markdown",
      "source": [
        "##### Get negative predictions from LSTM"
      ],
      "metadata": {
        "id": "-5zXjl1YYdeK"
      }
    },
    {
      "cell_type": "code",
      "source": [
        "X_pred_negative = X_test_padded[y_pred.reshape(y_pred.shape[0]) == 0]\n",
        "X_pred_negative"
      ],
      "metadata": {
        "colab": {
          "base_uri": "https://localhost:8080/"
        },
        "id": "rV8Tr281Yhfe",
        "outputId": "8d0378e5-ee1e-48ee-8028-69476dee33f1"
      },
      "execution_count": 33,
      "outputs": [
        {
          "output_type": "execute_result",
          "data": {
            "text/plain": [
              "array([[1, 2, 1, ..., 1, 1, 1],\n",
              "       [1, 2, 1, ..., 1, 2, 1],\n",
              "       [1, 2, 1, ..., 1, 1, 1],\n",
              "       ...,\n",
              "       [1, 2, 1, ..., 1, 2, 1],\n",
              "       [1, 3, 1, ..., 1, 2, 1],\n",
              "       [1, 2, 1, ..., 1, 2, 1]], dtype=int32)"
            ]
          },
          "metadata": {},
          "execution_count": 33
        }
      ]
    },
    {
      "cell_type": "code",
      "source": [
        "X_pred_negative.shape"
      ],
      "metadata": {
        "colab": {
          "base_uri": "https://localhost:8080/"
        },
        "id": "AZKy12tCYimi",
        "outputId": "bb30b788-aacc-4cf3-9854-d86be9a6fab0"
      },
      "execution_count": 34,
      "outputs": [
        {
          "output_type": "execute_result",
          "data": {
            "text/plain": [
              "(6490, 21)"
            ]
          },
          "metadata": {},
          "execution_count": 34
        }
      ]
    },
    {
      "cell_type": "code",
      "source": [
        "# locate original data\n",
        "pred_neg_data = val_batch.iloc[np.where(y_pred == 0)]\n",
        "pred_pos_data = val_batch.iloc[np.where(y_pred == 1)]"
      ],
      "metadata": {
        "id": "gbeeBCDjYkBc"
      },
      "execution_count": 35,
      "outputs": []
    },
    {
      "cell_type": "code",
      "source": [
        "# Convert negative tokens back to medical form\n",
        "original_event_sequences = tokenizer.sequences_to_texts(X_pred_negative)"
      ],
      "metadata": {
        "id": "b2UVUavPYmYk"
      },
      "execution_count": 36,
      "outputs": []
    },
    {
      "cell_type": "markdown",
      "source": [
        "##### Modify negative predictions using Nearest Neighbour"
      ],
      "metadata": {
        "id": "mSgg3EOUYyxk"
      }
    },
    {
      "cell_type": "code",
      "source": [
        "# Model uses hamming distance\n",
        "nn_model = NearestNeighbors(n_neighbors = 1, metric='hamming')"
      ],
      "metadata": {
        "id": "QInx-R-oY2A5"
      },
      "execution_count": 37,
      "outputs": []
    },
    {
      "cell_type": "code",
      "source": [
        "# Train data on true lables\n",
        "X_target_label = X_train_padded[y_train == 1]"
      ],
      "metadata": {
        "id": "3Na5tk-36S8A"
      },
      "execution_count": 38,
      "outputs": []
    },
    {
      "cell_type": "code",
      "source": [
        "nn_model.fit(X_target_label)"
      ],
      "metadata": {
        "colab": {
          "base_uri": "https://localhost:8080/"
        },
        "id": "9DycXr_k6Wud",
        "outputId": "652ce7b1-abf6-493e-8b57-805d24eccebe"
      },
      "execution_count": 39,
      "outputs": [
        {
          "output_type": "execute_result",
          "data": {
            "text/plain": [
              "NearestNeighbors(metric='hamming', n_neighbors=1)"
            ]
          },
          "metadata": {},
          "execution_count": 39
        }
      ]
    },
    {
      "cell_type": "code",
      "source": [
        "# Find the closest neighbor as a counterfactual\n",
        "closest = nn_model.kneighbors(X_pred_negative, return_distance = False)\n",
        "trans_results_nn = X_target_label[closest[:, 0]]\n",
        "\n",
        "trans_results_nn[0]"
      ],
      "metadata": {
        "colab": {
          "base_uri": "https://localhost:8080/"
        },
        "id": "EpKfAFKsY7nk",
        "outputId": "9e4f9ef8-e788-467f-f78b-fcb1631313d0"
      },
      "execution_count": 55,
      "outputs": [
        {
          "output_type": "execute_result",
          "data": {
            "text/plain": [
              "array([ 1,  2,  1, 18,  1,  7,  1,  5,  1,  4,  1,  2,  1,  2,  1,  1,  1,\n",
              "        1,  1,  1,  1], dtype=int32)"
            ]
          },
          "metadata": {},
          "execution_count": 55
        }
      ]
    },
    {
      "cell_type": "markdown",
      "source": [
        "##### Transform Results"
      ],
      "metadata": {
        "id": "uXXE-ZxeZRFz"
      }
    },
    {
      "cell_type": "code",
      "source": [
        "trans_event_sequences = tokenizer.sequences_to_texts(trans_results_nn)"
      ],
      "metadata": {
        "id": "rH4r6ZfJZOzp"
      },
      "execution_count": 56,
      "outputs": []
    },
    {
      "cell_type": "markdown",
      "source": [
        "#### Comparison between fraction of valid CFs (i.e. successfully generated counterfactuals)"
      ],
      "metadata": {
        "id": "JTV8CsT68fvc"
      }
    },
    {
      "cell_type": "code",
      "source": [
        "# Simple Results\n",
        "y_pred = model.predict(X_test_padded)"
      ],
      "metadata": {
        "id": "GNeJhNFQ9BOY"
      },
      "execution_count": 57,
      "outputs": []
    },
    {
      "cell_type": "code",
      "source": [
        "fraction_success = np.sum(y_pred > 0.5)/y_pred.shape[0]\n",
        "print(round(fraction_success, 4))"
      ],
      "metadata": {
        "colab": {
          "base_uri": "https://localhost:8080/"
        },
        "id": "dtM8TZRL81hT",
        "outputId": "f88c5cd8-a644-43ba-a52a-876e8bc999c1"
      },
      "execution_count": 71,
      "outputs": [
        {
          "output_type": "stream",
          "name": "stdout",
          "text": [
            "0.4202\n"
          ]
        }
      ]
    },
    {
      "cell_type": "code",
      "source": [
        "# Counterfactual Results\n",
        "y_pred_new = model.predict(trans_results_nn)"
      ],
      "metadata": {
        "id": "EI2QfcK6SDty"
      },
      "execution_count": 72,
      "outputs": []
    },
    {
      "cell_type": "code",
      "source": [
        "fraction_success_new = np.sum(y_pred_new > 0.5)/y_pred_new.shape[0]\n",
        "print(round(fraction_success_new, 4))"
      ],
      "metadata": {
        "colab": {
          "base_uri": "https://localhost:8080/"
        },
        "id": "PTqGaGeMRKMz",
        "outputId": "1fe0aca7-6d66-43d3-acf4-5b84f5e60437"
      },
      "execution_count": 73,
      "outputs": [
        {
          "output_type": "stream",
          "name": "stdout",
          "text": [
            "0.0587\n"
          ]
        }
      ]
    },
    {
      "cell_type": "markdown",
      "source": [
        "#### Local outlier factor (LOF score)\n",
        "Code taken from Paper 3 github Repo"
      ],
      "metadata": {
        "id": "P_CK4OO8ZjRD"
      }
    },
    {
      "cell_type": "code",
      "source": [
        "clf = LocalOutlierFactor(n_neighbors = 20, novelty = True, contamination = 0.1)\n",
        "clf.fit(X_target_label)"
      ],
      "metadata": {
        "colab": {
          "base_uri": "https://localhost:8080/"
        },
        "id": "AuR9xtsKZuAG",
        "outputId": "d789c72b-da57-45fd-d9b7-3a0e4c3f62c7"
      },
      "execution_count": 63,
      "outputs": [
        {
          "output_type": "execute_result",
          "data": {
            "text/plain": [
              "LocalOutlierFactor(contamination=0.1, novelty=True)"
            ]
          },
          "metadata": {},
          "execution_count": 63
        }
      ]
    },
    {
      "cell_type": "code",
      "source": [
        "# Simple Results\n",
        "y_pred_test = clf.predict(X_test_padded)\n",
        "n_error_test = y_pred_test[y_pred_test == -1].size"
      ],
      "metadata": {
        "id": "zChrskonZ2Z5"
      },
      "execution_count": 66,
      "outputs": []
    },
    {
      "cell_type": "code",
      "source": [
        "outlier_score_test = n_error_test/X_val_padded.shape[0]\n",
        "outlier_score_test"
      ],
      "metadata": {
        "colab": {
          "base_uri": "https://localhost:8080/"
        },
        "id": "KldgZ3w_Z306",
        "outputId": "4bc829b1-6a9f-41e7-95b0-99569c6d9a3f"
      },
      "execution_count": 68,
      "outputs": [
        {
          "output_type": "execute_result",
          "data": {
            "text/plain": [
              "0.08876500857632934"
            ]
          },
          "metadata": {},
          "execution_count": 68
        }
      ]
    },
    {
      "cell_type": "code",
      "source": [
        "# Counterfactual Results\n",
        "y_pred_test_new = clf.predict(trans_results_nn)\n",
        "n_error_test_new = y_pred_test_new[y_pred_test_new == -1].size\n",
        "\n",
        "outlier_score_test = n_error_test_new / y_pred_test_new.shape[0]\n",
        "print(round(outlier_score_test, 4))"
      ],
      "metadata": {
        "colab": {
          "base_uri": "https://localhost:8080/"
        },
        "id": "N4Lm0pzBWVUz",
        "outputId": "48e1e1e4-7dba-42c1-c4e2-ad75985610cf"
      },
      "execution_count": 74,
      "outputs": [
        {
          "output_type": "stream",
          "name": "stdout",
          "text": [
            "0.0875\n"
          ]
        }
      ]
    },
    {
      "cell_type": "markdown",
      "source": [
        "#### BLEU-4 score (cumulative 4-gram BLEU score)\n",
        "Code taken from Paper 3 Github Repo"
      ],
      "metadata": {
        "id": "N3WNbCY59hb-"
      }
    },
    {
      "cell_type": "code",
      "source": [
        "# Define smoothing function\n",
        "chencherry = SmoothingFunction()\n",
        "\n",
        "# Define a function to get pairwise BLEU scores\n",
        "def get_pairwise_bleu(original, transformed):\n",
        "    # 'weights=[0.25, 0.25, 0.25, 0.25]' means that calculate 4-gram BLEU scores cumulatively\n",
        "    results = [sentence_bleu(\n",
        "        references=[pair[0].split()], \n",
        "        hypothesis=pair[1].split(), \n",
        "        weights=[0.25, 0.25, 0.25, 0.25], \n",
        "        smoothing_function=chencherry.method1) \n",
        "        for pair in zip(original, transformed)]\n",
        "    \n",
        "    return results"
      ],
      "metadata": {
        "id": "-0PuuGCAb2bX"
      },
      "execution_count": 75,
      "outputs": []
    },
    {
      "cell_type": "code",
      "source": [
        "pairwise_bleu3 = get_pairwise_bleu(original_event_sequences, trans_event_sequences)\n",
        "avg_bleu3 = sum(pairwise_bleu3)/y_pred_new.shape[0]\n",
        "print(round(avg_bleu3, 4))"
      ],
      "metadata": {
        "colab": {
          "base_uri": "https://localhost:8080/"
        },
        "id": "4bwWe2blXoSi",
        "outputId": "511c97d4-fad9-43e8-e9d7-d7a134072c41"
      },
      "execution_count": 78,
      "outputs": [
        {
          "output_type": "stream",
          "name": "stdout",
          "text": [
            "0.8958\n"
          ]
        }
      ]
    },
    {
      "cell_type": "markdown",
      "source": [
        "#### Edit distance (Levenshtein)\n",
        "Code Taken from Paper 3"
      ],
      "metadata": {
        "id": "ZNvQHMgV-KXk"
      }
    },
    {
      "cell_type": "code",
      "source": [
        "def get_edit_distance(original, transformed):\n",
        "    edit_distance_pair = [editdistance.eval(o, t) for o, t in zip(original.tolist(), transformed.tolist())]\n",
        "    edit_score = np.mean(edit_distance_pair)\n",
        "    \n",
        "    return round(edit_score, 4)"
      ],
      "metadata": {
        "id": "XmeH9Anf-B8o"
      },
      "execution_count": 80,
      "outputs": []
    },
    {
      "cell_type": "code",
      "source": [
        "get_edit_distance(X_test_padded, X_pred_negative)"
      ],
      "metadata": {
        "colab": {
          "base_uri": "https://localhost:8080/"
        },
        "id": "a2TJ5dMN-OO4",
        "outputId": "b1aeb41d-6003-4538-f750-98f53d53e5fe"
      },
      "execution_count": 81,
      "outputs": [
        {
          "output_type": "execute_result",
          "data": {
            "text/plain": [
              "4.8456"
            ]
          },
          "metadata": {},
          "execution_count": 81
        }
      ]
    },
    {
      "cell_type": "code",
      "source": [
        "get_edit_distance(trans_results_nn, X_pred_negative)"
      ],
      "metadata": {
        "colab": {
          "base_uri": "https://localhost:8080/"
        },
        "id": "nprR1Zt5YPhR",
        "outputId": "6b85e159-9ca9-4c2a-f3a5-14dcf99fc928"
      },
      "execution_count": 82,
      "outputs": [
        {
          "output_type": "execute_result",
          "data": {
            "text/plain": [
              "0.8117"
            ]
          },
          "metadata": {},
          "execution_count": 82
        }
      ]
    },
    {
      "cell_type": "markdown",
      "source": [
        "#### END"
      ],
      "metadata": {
        "id": "8mc6TO5h-daW"
      }
    }
  ]
}